{
 "cells": [
  {
   "cell_type": "code",
   "execution_count": 1,
   "metadata": {},
   "outputs": [],
   "source": [
    "import numpy as np"
   ]
  },
  {
   "cell_type": "code",
   "execution_count": 2,
   "metadata": {},
   "outputs": [
    {
     "name": "stdout",
     "output_type": "stream",
     "text": [
      "[[1. 0. 0. 0.]\n",
      " [0. 1. 0. 0.]\n",
      " [0. 0. 1. 0.]\n",
      " [0. 0. 0. 1.]]\n"
     ]
    }
   ],
   "source": [
    "t = np.eye(4)\n",
    "print(t)"
   ]
  },
  {
   "cell_type": "markdown",
   "metadata": {},
   "source": [
    "### np.argmax(t,axis)\n",
    "##### 获得当前方向上第一个最大值所在位置"
   ]
  },
  {
   "cell_type": "code",
   "execution_count": 5,
   "metadata": {},
   "outputs": [
    {
     "name": "stdout",
     "output_type": "stream",
     "text": [
      "[0 1 2 3]\n"
     ]
    }
   ],
   "source": [
    "print(np.argmax(t,axis=0))"
   ]
  },
  {
   "cell_type": "markdown",
   "metadata": {},
   "source": [
    "### np.argmin(t,axis)\n",
    "##### 获得当前方向上第一个最小值所在位置"
   ]
  },
  {
   "cell_type": "code",
   "execution_count": 7,
   "metadata": {},
   "outputs": [
    {
     "name": "stdout",
     "output_type": "stream",
     "text": [
      "[1 0 0 0]\n"
     ]
    }
   ],
   "source": [
    "print(np.argmin(t,axis=0))"
   ]
  },
  {
   "cell_type": "markdown",
   "metadata": {},
   "source": [
    "# numpy生成随机数 "
   ]
  },
  {
   "cell_type": "markdown",
   "metadata": {},
   "source": [
    "##### np.random.rand(d0,d1,d2,......dn)                    创建d0-dn维度的均匀分布的随机数数组，浮点数，范围从0-1\n",
    "##### np.random.randn(d0,d1,d2,......dn)                 创建d0-dn维度的标准正态分布随机数，浮点数，平均数为0，标准差为1\n",
    "##### np.random.randint(low,high,(shape))            从给定上下限范围选取随机数整数，范围是low-high，形状是shape\n",
    "##### np.random.uniform(low,high,(size))              产生具有均匀分布的数组，low起始值，high结束值，size形状\n",
    "##### np.random.normal(loc,scale,(size))              从指定正态分布中随机抽取样本，分布中心是loc（均值），标准差是scale，形状是size\n",
    "##### np.random.seed(s)                                         随机数种子，通过设定相同的随机数种子，可以产生相同的随机数"
   ]
  },
  {
   "cell_type": "raw",
   "metadata": {},
   "source": []
  },
  {
   "cell_type": "markdown",
   "metadata": {},
   "source": [
    "# numpy中的复制 "
   ]
  },
  {
   "cell_type": "markdown",
   "metadata": {},
   "source": [
    "##### a=b 完全不复制，a和b相互影响\n",
    "##### a = b[:],视图的操作，一种切片，会创建新的对象a，但是a的数据完全由b保管，他们两个的数据变化是一致的，\n",
    "##### a = b.copy(),复制，a和b互不影响\n"
   ]
  },
  {
   "cell_type": "raw",
   "metadata": {},
   "source": []
  },
  {
   "attachments": {},
   "cell_type": "markdown",
   "metadata": {},
   "source": [
    "# numpy中常用统计函数"
   ]
  },
  {
   "attachments": {},
   "cell_type": "markdown",
   "metadata": {},
   "source": [
    "###### 求和：t.sum(axis=None)\n",
    "###### 均值：t.mean(a,axis=None)  受离群点的影响较大\n",
    "###### 中值：np.median(t,axis=None) \n",
    "###### 最大值：t.max(axis=None) \n",
    "###### 最小值：t.min(axis=None)\n",
    "###### 极值：np.ptp(t,axis=None) 即最大值和最小值只差\n",
    "###### 标准差：t.std(axis=None) "
   ]
  },
  {
   "cell_type": "code",
   "execution_count": 8,
   "metadata": {},
   "outputs": [
    {
     "name": "stdout",
     "output_type": "stream",
     "text": [
      "[[ 0  1  2  3  4  5]\n",
      " [ 6  7  8  9 10 11]\n",
      " [12 13 14 15 16 17]\n",
      " [18 19 20 21 22 23]]\n"
     ]
    }
   ],
   "source": [
    "t = np.arange(24).reshape(4,6)\n",
    "print(t)"
   ]
  },
  {
   "cell_type": "code",
   "execution_count": 9,
   "metadata": {},
   "outputs": [
    {
     "name": "stdout",
     "output_type": "stream",
     "text": [
      "276\n",
      "[36 40 44 48 52 56]\n"
     ]
    }
   ],
   "source": [
    "print(t.sum())   #也可用np.sum(t)\n",
    "print(t.sum(axis=0))"
   ]
  },
  {
   "cell_type": "code",
   "execution_count": 13,
   "metadata": {},
   "outputs": [
    {
     "name": "stdout",
     "output_type": "stream",
     "text": [
      "[ 9. 10. 11. 12. 13. 14.]\n",
      "[ 9. 10. 11. 12. 13. 14.]\n"
     ]
    }
   ],
   "source": [
    "print(t.mean(axis = 0))  #也可用np.mean(t)\n",
    "print(np.mean(t,axis=0))"
   ]
  },
  {
   "cell_type": "code",
   "execution_count": 12,
   "metadata": {},
   "outputs": [
    {
     "name": "stdout",
     "output_type": "stream",
     "text": [
      "[ 9. 10. 11. 12. 13. 14.]\n"
     ]
    }
   ],
   "source": [
    "print(np.median(t,axis=0))"
   ]
  },
  {
   "cell_type": "code",
   "execution_count": 14,
   "metadata": {},
   "outputs": [
    {
     "name": "stdout",
     "output_type": "stream",
     "text": [
      "[18 18 18 18 18 18]\n"
     ]
    }
   ],
   "source": [
    "print(np.ptp(t,axis=0))"
   ]
  },
  {
   "cell_type": "code",
   "execution_count": 17,
   "metadata": {},
   "outputs": [
    {
     "name": "stdout",
     "output_type": "stream",
     "text": [
      "[6.70820393 6.70820393 6.70820393 6.70820393 6.70820393 6.70820393]\n",
      "[6.70820393 6.70820393 6.70820393 6.70820393 6.70820393 6.70820393]\n"
     ]
    }
   ],
   "source": [
    "print(t.std(axis=0))  #也可用np.std(t)\n",
    "print(np.std(t,axis=0))"
   ]
  },
  {
   "cell_type": "code",
   "execution_count": null,
   "metadata": {},
   "outputs": [],
   "source": []
  }
 ],
 "metadata": {
  "kernelspec": {
   "display_name": "Python 3",
   "language": "python",
   "name": "python3"
  },
  "language_info": {
   "codemirror_mode": {
    "name": "ipython",
    "version": 3
   },
   "file_extension": ".py",
   "mimetype": "text/x-python",
   "name": "python",
   "nbconvert_exporter": "python",
   "pygments_lexer": "ipython3",
   "version": "3.7.4"
  }
 },
 "nbformat": 4,
 "nbformat_minor": 2
}
