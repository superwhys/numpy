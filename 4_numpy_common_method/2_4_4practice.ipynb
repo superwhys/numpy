{
 "cells": [
  {
   "cell_type": "markdown",
   "metadata": {},
   "source": [
    "# 将数组中含nan的元素替换为其他元素 "
   ]
  },
  {
   "cell_type": "code",
   "execution_count": 1,
   "metadata": {},
   "outputs": [],
   "source": [
    "import numpy as np"
   ]
  },
  {
   "cell_type": "code",
   "execution_count": 27,
   "metadata": {},
   "outputs": [
    {
     "name": "stdout",
     "output_type": "stream",
     "text": [
      "[[ 0.  1.  2.  3.]\n",
      " [ 4.  5. nan nan]\n",
      " [ 8.  9. 10. 11.]]\n"
     ]
    }
   ],
   "source": [
    "t1 = np.arange(12).reshape((3,4)).astype(float)\n",
    "t1[1,2:] = np.nan\n",
    "print(t1)"
   ]
  },
  {
   "cell_type": "code",
   "execution_count": 28,
   "metadata": {},
   "outputs": [],
   "source": [
    "def fill_ndarray(t1):\n",
    "#判断哪一列有nan\n",
    "    for i in range(t1.shape[1]):\n",
    "        temp_col = t1[:,i]  #获取每一列\n",
    "        nan_num = np.count_nonzero(np.isnan(temp_col)) #获取当前一列nan个数\n",
    "        if nan_num != 0:  #如果nan_num不为0，说明当前列有nan\n",
    "            temp_not_nan_col = temp_col[temp_col==temp_col]  #获得当前一列不为nan的元素\n",
    "            temp_col[np.isnan(temp_col)] = np.mean(temp_not_nan_col) #选中当前为nan的位置，把mean值赋值过去\n",
    "    return t1"
   ]
  },
  {
   "cell_type": "code",
   "execution_count": 29,
   "metadata": {},
   "outputs": [
    {
     "name": "stdout",
     "output_type": "stream",
     "text": [
      "[[ 0.  1.  2.  3.]\n",
      " [ 4.  5. nan nan]\n",
      " [ 8.  9. 10. 11.]]\n",
      "[[ 0.  1.  2.  3.]\n",
      " [ 4.  5.  6.  7.]\n",
      " [ 8.  9. 10. 11.]]\n"
     ]
    }
   ],
   "source": [
    "print(t1)\n",
    "t1 = fill_ndarray(t1)\n",
    "print(t1)"
   ]
  }
 ],
 "metadata": {
  "kernelspec": {
   "display_name": "Python 3",
   "language": "python",
   "name": "python3"
  },
  "language_info": {
   "codemirror_mode": {
    "name": "ipython",
    "version": 3
   },
   "file_extension": ".py",
   "mimetype": "text/x-python",
   "name": "python",
   "nbconvert_exporter": "python",
   "pygments_lexer": "ipython3",
   "version": "3.7.4"
  }
 },
 "nbformat": 4,
 "nbformat_minor": 2
}
